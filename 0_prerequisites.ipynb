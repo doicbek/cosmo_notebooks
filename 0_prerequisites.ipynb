{
 "cells": [
  {
   "cell_type": "markdown",
   "metadata": {},
   "source": [
    "# 0: Prerequisites\n",
    "\n",
    "Running the following cells will install required python modules and will download some data needed to run the notebooks in this repository. More details on those will follow in the respective notebooks. Feel free to use your own `conda` environment and set up the following python modules there. A fortran compiler needs to be installed on the system. On a computing cluster this can be ensured by loading the `gcc` module when initiating a Jupyter session."
   ]
  },
  {
   "cell_type": "code",
   "execution_count": null,
   "metadata": {
    "scrolled": false
   },
   "outputs": [],
   "source": [
    "!pip install healpy camb pysm3 https://github.com/doicbek/PUR/archive/refs/heads/master.zip --user"
   ]
  },
  {
   "cell_type": "code",
   "execution_count": null,
   "metadata": {},
   "outputs": [],
   "source": [
    "import urllib.request\n",
    "\n",
    "files=[\n",
    "    'https://irsa.ipac.caltech.edu/data/Planck/release_2/all-sky-maps/maps/component-maps/foregrounds/COM_CompMap_ThermalDust-commander_2048_R2.00.fits',\n",
    "    'https://portal.nersc.gov/cfs/cmb/planck2020/frequency_maps/Single-frequency/HFI_SkyMap_353_2048_R4.00_full.fits',\n",
    "    'https://portal.nersc.gov/cfs/cmb/planck2020/frequency_maps/Single-frequency/HFI_SkyMap_353_2048_R4.00_full-ringhalf-1.fits',\n",
    "    'https://portal.nersc.gov/cfs/cmb/planck2020/frequency_maps/Single-frequency/HFI_SkyMap_353_2048_R4.00_full-ringhalf-2.fits',\n",
    "    'https://portal.nersc.gov/cfs/cmb/planck2020/frequency_maps/Single-frequency/HFI_SkyMap_100_2048_R4.00_full.fits',\n",
    "    'http://bicepkeck.org/BK14_datarelease/bk14_mask_cel_n0512.fits'\n",
    "]\n",
    "\n",
    "!mkdir data/\n",
    "\n",
    "for f in files:\n",
    "    print('Downloading %s'%f)\n",
    "    urllib.request.urlretrieve(f, 'data/'+f.split('/')[-1])"
   ]
  }
 ],
 "metadata": {
  "kernelspec": {
   "display_name": "Python 3",
   "language": "python",
   "name": "python3"
  },
  "language_info": {
   "codemirror_mode": {
    "name": "ipython",
    "version": 3
   },
   "file_extension": ".py",
   "mimetype": "text/x-python",
   "name": "python",
   "nbconvert_exporter": "python",
   "pygments_lexer": "ipython3",
   "version": "3.6.1"
  }
 },
 "nbformat": 4,
 "nbformat_minor": 2
}
