{
 "cells": [
  {
   "cell_type": "markdown",
   "metadata": {},
   "source": [
    "# 0: Prerequisites\n",
    "\n",
    "Running the following cells will install required python modules and will download some data needed to run the notebooks in this repository. More details on those will follow in the respective notebooks. Feel free to use your own `conda` environment and set up the following python modules there. A fortran compiler needs to be installed on the system. On a computing cluster this can be ensured by loading the `gcc` module when initiating a Jupyter session."
   ]
  },
  {
   "cell_type": "code",
   "execution_count": 4,
   "metadata": {
    "scrolled": false
   },
   "outputs": [
    {
     "name": "stdout",
     "output_type": "stream",
     "text": [
      "Collecting https://github.com/doicbek/PUR/archive/refs/heads/master.zip\n",
      "  Using cached https://github.com/doicbek/PUR/archive/refs/heads/master.zip\n",
      "  Preparing metadata (setup.py) ... \u001b[?25ldone\n",
      "\u001b[?25hRequirement already satisfied: healpy in /home/users/dobeck/.local/lib/python3.6/site-packages (1.15.0)\n",
      "Requirement already satisfied: camb in /home/users/dobeck/.local/lib/python3.6/site-packages (1.3.5)\n",
      "Requirement already satisfied: pysm3 in /home/users/dobeck/.local/lib/python3.6/site-packages (3.2.0)\n",
      "Requirement already satisfied: astropy in /home/users/dobeck/.local/lib/python3.6/site-packages (from healpy) (4.0.1.post1)\n",
      "Requirement already satisfied: scipy in /home/users/dobeck/.local/lib/python3.6/site-packages (from healpy) (1.5.4)\n",
      "Requirement already satisfied: numpy>=1.13 in /home/users/dobeck/.local/lib/python3.6/site-packages (from healpy) (1.19.5)\n",
      "Requirement already satisfied: matplotlib in /home/users/dobeck/.local/lib/python3.6/site-packages (from healpy) (3.2.1)\n",
      "Requirement already satisfied: sympy>=1.0 in /home/users/dobeck/.local/lib/python3.6/site-packages (from camb) (1.9)\n",
      "Requirement already satisfied: importlib-resources in /home/users/dobeck/.local/lib/python3.6/site-packages (from pysm3) (1.5.0)\n",
      "Requirement already satisfied: toml in /home/users/dobeck/.local/lib/python3.6/site-packages (from pysm3) (0.10.0)\n",
      "Requirement already satisfied: numba in /home/users/dobeck/.local/lib/python3.6/site-packages (from pysm3) (0.49.0)\n",
      "Requirement already satisfied: mpmath>=0.19 in /home/users/dobeck/.local/lib/python3.6/site-packages (from sympy>=1.0->camb) (1.2.1)\n",
      "Requirement already satisfied: zipp>=0.4 in /home/users/dobeck/.local/lib/python3.6/site-packages (from importlib-resources->pysm3) (3.1.0)\n",
      "Requirement already satisfied: importlib-metadata in /home/users/dobeck/.local/lib/python3.6/site-packages (from importlib-resources->pysm3) (1.6.0)\n",
      "Requirement already satisfied: pyparsing!=2.0.4,!=2.1.2,!=2.1.6,>=2.0.1 in /home/users/dobeck/.local/lib/python3.6/site-packages (from matplotlib->healpy) (2.4.7)\n",
      "Requirement already satisfied: python-dateutil>=2.1 in /share/software/user/open/py-jupyter/1.0.0_py36/lib/python3.6/site-packages (from matplotlib->healpy) (2.6.1)\n",
      "Requirement already satisfied: cycler>=0.10 in /home/users/dobeck/.local/lib/python3.6/site-packages (from matplotlib->healpy) (0.10.0)\n",
      "Requirement already satisfied: kiwisolver>=1.0.1 in /home/users/dobeck/.local/lib/python3.6/site-packages (from matplotlib->healpy) (1.2.0)\n",
      "Requirement already satisfied: llvmlite<=0.33.0.dev0,>=0.31.0.dev0 in /home/users/dobeck/.local/lib/python3.6/site-packages (from numba->pysm3) (0.32.0)\n",
      "Requirement already satisfied: setuptools in /share/software/user/open/py-jupyter/1.0.0_py36/lib/python3.6/site-packages (from numba->pysm3) (36.2.7)\n",
      "Requirement already satisfied: six in /share/software/user/open/py-jupyter/1.0.0_py36/lib/python3.6/site-packages (from cycler>=0.10->matplotlib->healpy) (1.10.0)\n"
     ]
    }
   ],
   "source": [
    "!pip install healpy camb pysm3 https://github.com/doicbek/PUR/archive/refs/heads/master.zip --user"
   ]
  },
  {
   "cell_type": "code",
   "execution_count": 5,
   "metadata": {},
   "outputs": [
    {
     "name": "stdout",
     "output_type": "stream",
     "text": [
      "mkdir: cannot create directory ‘data/’: File exists\n",
      "Downloading https://irsa.ipac.caltech.edu/data/Planck/release_2/all-sky-maps/maps/component-maps/foregrounds/COM_CompMap_ThermalDust-commander_2048_R2.00.fits\n",
      "Downloading https://portal.nersc.gov/cfs/cmb/planck2020/frequency_maps/Single-frequency/HFI_SkyMap_353_2048_R4.00_full.fits\n",
      "Downloading https://portal.nersc.gov/cfs/cmb/planck2020/frequency_maps/Single-frequency/HFI_SkyMap_353_2048_R4.00_full-ringhalf-1.fits\n",
      "Downloading https://portal.nersc.gov/cfs/cmb/planck2020/frequency_maps/Single-frequency/HFI_SkyMap_353_2048_R4.00_full-ringhalf-2.fits\n",
      "Downloading https://portal.nersc.gov/cfs/cmb/planck2020/frequency_maps/Single-frequency/HFI_SkyMap_100_2048_R4.00_full.fits\n",
      "Downloading http://bicepkeck.org/BK14_datarelease/bk14_mask_cel_n0512.fits\n"
     ]
    }
   ],
   "source": [
    "import urllib.request\n",
    "\n",
    "files=[\n",
    "    'https://irsa.ipac.caltech.edu/data/Planck/release_2/all-sky-maps/maps/component-maps/foregrounds/COM_CompMap_ThermalDust-commander_2048_R2.00.fits',\n",
    "    'https://portal.nersc.gov/cfs/cmb/planck2020/frequency_maps/Single-frequency/HFI_SkyMap_353_2048_R4.00_full.fits',\n",
    "    'https://portal.nersc.gov/cfs/cmb/planck2020/frequency_maps/Single-frequency/HFI_SkyMap_353_2048_R4.00_full-ringhalf-1.fits',\n",
    "    'https://portal.nersc.gov/cfs/cmb/planck2020/frequency_maps/Single-frequency/HFI_SkyMap_353_2048_R4.00_full-ringhalf-2.fits',\n",
    "    'https://portal.nersc.gov/cfs/cmb/planck2020/frequency_maps/Single-frequency/HFI_SkyMap_100_2048_R4.00_full.fits',\n",
    "    'http://bicepkeck.org/BK14_datarelease/bk14_mask_cel_n0512.fits'\n",
    "]\n",
    "\n",
    "!mkdir data/\n",
    "\n",
    "for f in files:\n",
    "    print('Downloading %s'%f)\n",
    "    urllib.request.urlretrieve(f, 'data/'+f.split('/')[-1])"
   ]
  }
 ],
 "metadata": {
  "kernelspec": {
   "display_name": "Python 3",
   "language": "python",
   "name": "python3"
  },
  "language_info": {
   "codemirror_mode": {
    "name": "ipython",
    "version": 3
   },
   "file_extension": ".py",
   "mimetype": "text/x-python",
   "name": "python",
   "nbconvert_exporter": "python",
   "pygments_lexer": "ipython3",
   "version": "3.6.1"
  }
 },
 "nbformat": 4,
 "nbformat_minor": 2
}
